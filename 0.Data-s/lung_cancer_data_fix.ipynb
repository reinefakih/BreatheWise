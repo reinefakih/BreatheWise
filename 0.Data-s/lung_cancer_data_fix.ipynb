{
 "cells": [
  {
   "cell_type": "code",
   "execution_count": 1,
   "metadata": {},
   "outputs": [],
   "source": [
    "import pandas as pd"
   ]
  },
  {
   "cell_type": "code",
   "execution_count": 3,
   "metadata": {},
   "outputs": [
    {
     "name": "stderr",
     "output_type": "stream",
     "text": [
      "C:\\Users\\allab\\AppData\\Local\\Temp\\ipykernel_21376\\2407611741.py:1: DtypeWarning: Columns (23) have mixed types. Specify dtype option on import or set low_memory=False.\n",
      "  df = pd.read_csv('processed_air_data.csv')\n"
     ]
    }
   ],
   "source": [
    "df = pd.read_csv('processed_air_data.csv')"
   ]
  },
  {
   "cell_type": "code",
   "execution_count": 5,
   "metadata": {},
   "outputs": [
    {
     "data": {
      "text/plain": [
       "year                           2016\n",
       "year_month                  2016-04\n",
       "year_etd                       2017\n",
       "CountryCode                      DE\n",
       "redistributed_year_month    2016-10\n",
       "Name: 0, dtype: object"
      ]
     },
     "execution_count": 5,
     "metadata": {},
     "output_type": "execute_result"
    }
   ],
   "source": [
    "df.iloc[0, 19:]"
   ]
  },
  {
   "cell_type": "code",
   "execution_count": 7,
   "metadata": {},
   "outputs": [],
   "source": [
    "df = df.drop(['year', 'year_month', 'CountryCode'], axis=1)"
   ]
  },
  {
   "cell_type": "code",
   "execution_count": 8,
   "metadata": {},
   "outputs": [
    {
     "name": "stdout",
     "output_type": "stream",
     "text": [
      "<class 'pandas.core.frame.DataFrame'>\n",
      "RangeIndex: 3250000 entries, 0 to 3249999\n",
      "Data columns (total 21 columns):\n",
      " #   Column                       Dtype  \n",
      "---  ------                       -----  \n",
      " 0   Unnamed: 0                   int64  \n",
      " 1   id                           int64  \n",
      " 2   age                          float64\n",
      " 3   gender                       object \n",
      " 4   country                      object \n",
      " 5   diagnosis_date               object \n",
      " 6   cancer_stage                 object \n",
      " 7   beginning_of_treatment_date  object \n",
      " 8   family_history               object \n",
      " 9   smoking_status               object \n",
      " 10  bmi                          float64\n",
      " 11  cholesterol_level            int64  \n",
      " 12  hypertension                 int64  \n",
      " 13  asthma                       int64  \n",
      " 14  cirrhosis                    int64  \n",
      " 15  other_cancer                 int64  \n",
      " 16  treatment_type               object \n",
      " 17  end_treatment_date           object \n",
      " 18  survived                     int64  \n",
      " 19  year_etd                     int64  \n",
      " 20  redistributed_year_month     object \n",
      "dtypes: float64(2), int64(9), object(10)\n",
      "memory usage: 520.7+ MB\n"
     ]
    }
   ],
   "source": [
    "df.info()"
   ]
  },
  {
   "cell_type": "code",
   "execution_count": 13,
   "metadata": {},
   "outputs": [
    {
     "data": {
      "text/plain": [
       "26"
      ]
     },
     "execution_count": 13,
     "metadata": {},
     "output_type": "execute_result"
    }
   ],
   "source": [
    "len(df['redistributed_year_month'].unique())"
   ]
  }
 ],
 "metadata": {
  "kernelspec": {
   "display_name": ".venv",
   "language": "python",
   "name": "python3"
  },
  "language_info": {
   "codemirror_mode": {
    "name": "ipython",
    "version": 3
   },
   "file_extension": ".py",
   "mimetype": "text/x-python",
   "name": "python",
   "nbconvert_exporter": "python",
   "pygments_lexer": "ipython3",
   "version": "3.12.4"
  }
 },
 "nbformat": 4,
 "nbformat_minor": 2
}
