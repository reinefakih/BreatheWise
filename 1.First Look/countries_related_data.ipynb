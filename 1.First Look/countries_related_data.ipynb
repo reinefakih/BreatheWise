{
 "cells": [
  {
   "cell_type": "markdown",
   "metadata": {},
   "source": [
    "# Countries Related Data:"
   ]
  },
  {
   "cell_type": "markdown",
   "metadata": {},
   "source": [
    "----------------------------------------------------------------"
   ]
  },
  {
   "cell_type": "markdown",
   "metadata": {},
   "source": [
    "## Opening the Data:"
   ]
  },
  {
   "cell_type": "code",
   "execution_count": 1,
   "metadata": {},
   "outputs": [],
   "source": [
    "# import statments\n",
    "\n",
    "import pandas as pd"
   ]
  },
  {
   "cell_type": "code",
   "execution_count": 2,
   "metadata": {},
   "outputs": [],
   "source": [
    "# reading the csv files\n",
    "\n",
    "country_region = pd.read_csv(\"..\\\\0.Data\\\\country related data\\\\country_region.csv\")\n",
    "power_plants = pd.read_csv(\"..\\\\0.Data\\\\country related data\\\\powerplants (global) - global_power_plants.csv\")\n",
    "income_classification = pd.read_csv(\"..\\\\0.Data\\\\country related data\\\\world-bank-income-groups.csv\")"
   ]
  },
  {
   "cell_type": "markdown",
   "metadata": {},
   "source": [
    "## Country Region Data:"
   ]
  },
  {
   "cell_type": "markdown",
   "metadata": {},
   "source": [
    "### General look:"
   ]
  },
  {
   "cell_type": "code",
   "execution_count": 3,
   "metadata": {},
   "outputs": [
    {
     "data": {
      "text/html": [
       "<div>\n",
       "<style scoped>\n",
       "    .dataframe tbody tr th:only-of-type {\n",
       "        vertical-align: middle;\n",
       "    }\n",
       "\n",
       "    .dataframe tbody tr th {\n",
       "        vertical-align: top;\n",
       "    }\n",
       "\n",
       "    .dataframe thead th {\n",
       "        text-align: right;\n",
       "    }\n",
       "</style>\n",
       "<table border=\"1\" class=\"dataframe\">\n",
       "  <thead>\n",
       "    <tr style=\"text-align: right;\">\n",
       "      <th></th>\n",
       "      <th>country</th>\n",
       "      <th>region</th>\n",
       "    </tr>\n",
       "  </thead>\n",
       "  <tbody>\n",
       "    <tr>\n",
       "      <th>19</th>\n",
       "      <td>Czech Republic</td>\n",
       "      <td>Central Europe</td>\n",
       "    </tr>\n",
       "    <tr>\n",
       "      <th>14</th>\n",
       "      <td>Luxembourg</td>\n",
       "      <td>Western Europe</td>\n",
       "    </tr>\n",
       "    <tr>\n",
       "      <th>0</th>\n",
       "      <td>Denmark</td>\n",
       "      <td>Northern Europe</td>\n",
       "    </tr>\n",
       "    <tr>\n",
       "      <th>12</th>\n",
       "      <td>Portugal</td>\n",
       "      <td>Southern Europe</td>\n",
       "    </tr>\n",
       "    <tr>\n",
       "      <th>23</th>\n",
       "      <td>Bulgaria</td>\n",
       "      <td>Eastren Europe</td>\n",
       "    </tr>\n",
       "  </tbody>\n",
       "</table>\n",
       "</div>"
      ],
      "text/plain": [
       "           country           region\n",
       "19  Czech Republic   Central Europe\n",
       "14      Luxembourg   Western Europe\n",
       "0          Denmark  Northern Europe\n",
       "12        Portugal  Southern Europe\n",
       "23        Bulgaria   Eastren Europe"
      ]
     },
     "execution_count": 3,
     "metadata": {},
     "output_type": "execute_result"
    }
   ],
   "source": [
    "# getting a random sample to look at:\n",
    "\n",
    "country_region.sample(5)"
   ]
  },
  {
   "cell_type": "code",
   "execution_count": 4,
   "metadata": {},
   "outputs": [
    {
     "data": {
      "text/plain": [
       "(27, 2)"
      ]
     },
     "execution_count": 4,
     "metadata": {},
     "output_type": "execute_result"
    }
   ],
   "source": [
    "# getting the number of rows and columns\n",
    "\n",
    "country_region.shape"
   ]
  },
  {
   "cell_type": "code",
   "execution_count": 5,
   "metadata": {},
   "outputs": [
    {
     "name": "stdout",
     "output_type": "stream",
     "text": [
      "<class 'pandas.core.frame.DataFrame'>\n",
      "RangeIndex: 27 entries, 0 to 26\n",
      "Data columns (total 2 columns):\n",
      " #   Column   Non-Null Count  Dtype \n",
      "---  ------   --------------  ----- \n",
      " 0   country  27 non-null     object\n",
      " 1   region   27 non-null     object\n",
      "dtypes: object(2)\n",
      "memory usage: 564.0+ bytes\n"
     ]
    }
   ],
   "source": [
    "# looking some column information\n",
    "\n",
    "country_region.info()"
   ]
  },
  {
   "cell_type": "markdown",
   "metadata": {},
   "source": [
    "### Data Cleaning:"
   ]
  },
  {
   "cell_type": "code",
   "execution_count": 6,
   "metadata": {},
   "outputs": [
    {
     "data": {
      "text/plain": [
       "0"
      ]
     },
     "execution_count": 6,
     "metadata": {},
     "output_type": "execute_result"
    }
   ],
   "source": [
    "# checking if we have duplicates:\n",
    "\n",
    "country_region.duplicated().sum()"
   ]
  },
  {
   "cell_type": "code",
   "execution_count": 7,
   "metadata": {},
   "outputs": [
    {
     "data": {
      "text/plain": [
       "0"
      ]
     },
     "execution_count": 7,
     "metadata": {},
     "output_type": "execute_result"
    }
   ],
   "source": [
    "# checking if we have duplicate countries:\n",
    "\n",
    "country_region['country'].duplicated().sum()"
   ]
  },
  {
   "cell_type": "code",
   "execution_count": 8,
   "metadata": {},
   "outputs": [
    {
     "data": {
      "text/plain": [
       "country    0\n",
       "region     0\n",
       "dtype: int64"
      ]
     },
     "execution_count": 8,
     "metadata": {},
     "output_type": "execute_result"
    }
   ],
   "source": [
    "# checking if we have any null values:\n",
    "\n",
    "country_region.isna().sum()"
   ]
  },
  {
   "cell_type": "markdown",
   "metadata": {},
   "source": [
    "## Power Plants Data:"
   ]
  },
  {
   "cell_type": "markdown",
   "metadata": {},
   "source": [
    "### General Look:"
   ]
  },
  {
   "cell_type": "code",
   "execution_count": 9,
   "metadata": {},
   "outputs": [
    {
     "data": {
      "text/html": [
       "<div>\n",
       "<style scoped>\n",
       "    .dataframe tbody tr th:only-of-type {\n",
       "        vertical-align: middle;\n",
       "    }\n",
       "\n",
       "    .dataframe tbody tr th {\n",
       "        vertical-align: top;\n",
       "    }\n",
       "\n",
       "    .dataframe thead th {\n",
       "        text-align: right;\n",
       "    }\n",
       "</style>\n",
       "<table border=\"1\" class=\"dataframe\">\n",
       "  <thead>\n",
       "    <tr style=\"text-align: right;\">\n",
       "      <th></th>\n",
       "      <th>country code</th>\n",
       "      <th>country_long</th>\n",
       "      <th>name of powerplant</th>\n",
       "      <th>capacity in MW</th>\n",
       "      <th>latitude</th>\n",
       "      <th>longitude</th>\n",
       "      <th>primary_fuel</th>\n",
       "      <th>secondary fuel</th>\n",
       "      <th>other_fuel2</th>\n",
       "      <th>other_fuel3</th>\n",
       "      <th>start date</th>\n",
       "      <th>owner of plant</th>\n",
       "      <th>generation_gwh_2021</th>\n",
       "      <th>geolocation_source</th>\n",
       "      <th>estimated_generation_gwh_2021</th>\n",
       "    </tr>\n",
       "  </thead>\n",
       "  <tbody>\n",
       "    <tr>\n",
       "      <th>5381</th>\n",
       "      <td>CHN</td>\n",
       "      <td>China</td>\n",
       "      <td>Chayouhouqi Hongmu Phase 1</td>\n",
       "      <td>20.0</td>\n",
       "      <td>41.1500</td>\n",
       "      <td>113.1500</td>\n",
       "      <td>Solar</td>\n",
       "      <td>NaN</td>\n",
       "      <td>NaN</td>\n",
       "      <td>NaN</td>\n",
       "      <td>NaN</td>\n",
       "      <td>Inner Mongolia Datang International New Energy...</td>\n",
       "      <td>NaN</td>\n",
       "      <td>NaN</td>\n",
       "      <td>32.30</td>\n",
       "    </tr>\n",
       "    <tr>\n",
       "      <th>26833</th>\n",
       "      <td>USA</td>\n",
       "      <td>United States of America</td>\n",
       "      <td>Crystal</td>\n",
       "      <td>28.0</td>\n",
       "      <td>38.5106</td>\n",
       "      <td>-107.6253</td>\n",
       "      <td>Hydro</td>\n",
       "      <td>NaN</td>\n",
       "      <td>NaN</td>\n",
       "      <td>NaN</td>\n",
       "      <td>1978.0</td>\n",
       "      <td>U S Bureau of Reclamation</td>\n",
       "      <td>133.569</td>\n",
       "      <td>U.S. Energy Information Administration</td>\n",
       "      <td>104.47</td>\n",
       "    </tr>\n",
       "    <tr>\n",
       "      <th>33614</th>\n",
       "      <td>USA</td>\n",
       "      <td>United States of America</td>\n",
       "      <td>USS JJ Solar CSG</td>\n",
       "      <td>1.0</td>\n",
       "      <td>45.6361</td>\n",
       "      <td>-94.0504</td>\n",
       "      <td>Solar</td>\n",
       "      <td>NaN</td>\n",
       "      <td>NaN</td>\n",
       "      <td>NaN</td>\n",
       "      <td>2019.0</td>\n",
       "      <td>USS JJ Solar LLC</td>\n",
       "      <td>1.826</td>\n",
       "      <td>U.S. Energy Information Administration</td>\n",
       "      <td>NaN</td>\n",
       "    </tr>\n",
       "    <tr>\n",
       "      <th>7447</th>\n",
       "      <td>CHN</td>\n",
       "      <td>China</td>\n",
       "      <td>Longtan</td>\n",
       "      <td>6300.0</td>\n",
       "      <td>25.0277</td>\n",
       "      <td>107.0431</td>\n",
       "      <td>Hydro</td>\n",
       "      <td>NaN</td>\n",
       "      <td>NaN</td>\n",
       "      <td>NaN</td>\n",
       "      <td>2009.0</td>\n",
       "      <td>Longtan Hydropower Development Co.  Ltd.</td>\n",
       "      <td>NaN</td>\n",
       "      <td>NaN</td>\n",
       "      <td>18392.19</td>\n",
       "    </tr>\n",
       "    <tr>\n",
       "      <th>24547</th>\n",
       "      <td>GBR</td>\n",
       "      <td>United Kingdom</td>\n",
       "      <td>Wathegar 2 Wind Farm</td>\n",
       "      <td>18.5</td>\n",
       "      <td>58.4352</td>\n",
       "      <td>-3.2159</td>\n",
       "      <td>Wind</td>\n",
       "      <td>NaN</td>\n",
       "      <td>NaN</td>\n",
       "      <td>NaN</td>\n",
       "      <td>NaN</td>\n",
       "      <td>BayWa r.e.</td>\n",
       "      <td>NaN</td>\n",
       "      <td>UK Renewable Energy Planning Database</td>\n",
       "      <td>NaN</td>\n",
       "    </tr>\n",
       "  </tbody>\n",
       "</table>\n",
       "</div>"
      ],
      "text/plain": [
       "      country code              country_long          name of powerplant  \\\n",
       "5381           CHN                     China  Chayouhouqi Hongmu Phase 1   \n",
       "26833          USA  United States of America                     Crystal   \n",
       "33614          USA  United States of America            USS JJ Solar CSG   \n",
       "7447           CHN                     China                     Longtan   \n",
       "24547          GBR            United Kingdom        Wathegar 2 Wind Farm   \n",
       "\n",
       "       capacity in MW  latitude  longitude primary_fuel secondary fuel  \\\n",
       "5381             20.0   41.1500   113.1500        Solar            NaN   \n",
       "26833            28.0   38.5106  -107.6253        Hydro            NaN   \n",
       "33614             1.0   45.6361   -94.0504        Solar            NaN   \n",
       "7447           6300.0   25.0277   107.0431        Hydro            NaN   \n",
       "24547            18.5   58.4352    -3.2159         Wind            NaN   \n",
       "\n",
       "      other_fuel2 other_fuel3  start date  \\\n",
       "5381          NaN         NaN         NaN   \n",
       "26833         NaN         NaN      1978.0   \n",
       "33614         NaN         NaN      2019.0   \n",
       "7447          NaN         NaN      2009.0   \n",
       "24547         NaN         NaN         NaN   \n",
       "\n",
       "                                          owner of plant  generation_gwh_2021  \\\n",
       "5381   Inner Mongolia Datang International New Energy...                  NaN   \n",
       "26833                          U S Bureau of Reclamation              133.569   \n",
       "33614                                   USS JJ Solar LLC                1.826   \n",
       "7447            Longtan Hydropower Development Co.  Ltd.                  NaN   \n",
       "24547                                         BayWa r.e.                  NaN   \n",
       "\n",
       "                           geolocation_source  estimated_generation_gwh_2021  \n",
       "5381                                      NaN                          32.30  \n",
       "26833  U.S. Energy Information Administration                         104.47  \n",
       "33614  U.S. Energy Information Administration                            NaN  \n",
       "7447                                      NaN                       18392.19  \n",
       "24547   UK Renewable Energy Planning Database                            NaN  "
      ]
     },
     "execution_count": 9,
     "metadata": {},
     "output_type": "execute_result"
    }
   ],
   "source": [
    "power_plants.sample(5)"
   ]
  },
  {
   "cell_type": "code",
   "execution_count": 10,
   "metadata": {},
   "outputs": [
    {
     "data": {
      "text/plain": [
       "(34936, 15)"
      ]
     },
     "execution_count": 10,
     "metadata": {},
     "output_type": "execute_result"
    }
   ],
   "source": [
    "power_plants.shape"
   ]
  },
  {
   "cell_type": "code",
   "execution_count": 11,
   "metadata": {},
   "outputs": [
    {
     "name": "stdout",
     "output_type": "stream",
     "text": [
      "<class 'pandas.core.frame.DataFrame'>\n",
      "RangeIndex: 34936 entries, 0 to 34935\n",
      "Data columns (total 15 columns):\n",
      " #   Column                         Non-Null Count  Dtype  \n",
      "---  ------                         --------------  -----  \n",
      " 0   country code                   34936 non-null  object \n",
      " 1   country_long                   34936 non-null  object \n",
      " 2   name of powerplant             34936 non-null  object \n",
      " 3   capacity in MW                 34936 non-null  float64\n",
      " 4   latitude                       34936 non-null  float64\n",
      " 5   longitude                      34936 non-null  float64\n",
      " 6   primary_fuel                   34936 non-null  object \n",
      " 7   secondary fuel                 1944 non-null   object \n",
      " 8   other_fuel2                    276 non-null    object \n",
      " 9   other_fuel3                    92 non-null     object \n",
      " 10  start date                     17447 non-null  float64\n",
      " 11  owner of plant                 20868 non-null  object \n",
      " 12  generation_gwh_2021            9659 non-null   float64\n",
      " 13  geolocation_source             34517 non-null  object \n",
      " 14  estimated_generation_gwh_2021  16120 non-null  float64\n",
      "dtypes: float64(6), object(9)\n",
      "memory usage: 4.0+ MB\n"
     ]
    }
   ],
   "source": [
    "power_plants.info()"
   ]
  },
  {
   "cell_type": "markdown",
   "metadata": {},
   "source": [
    "### Data Cleaning:"
   ]
  },
  {
   "cell_type": "code",
   "execution_count": 12,
   "metadata": {},
   "outputs": [
    {
     "data": {
      "text/plain": [
       "country code                         0\n",
       "country_long                         0\n",
       "name of powerplant                   0\n",
       "capacity in MW                       0\n",
       "latitude                             0\n",
       "longitude                            0\n",
       "primary_fuel                         0\n",
       "secondary fuel                   32992\n",
       "other_fuel2                      34660\n",
       "other_fuel3                      34844\n",
       "start date                       17489\n",
       "owner of plant                   14068\n",
       "generation_gwh_2021              25277\n",
       "geolocation_source                 419\n",
       "estimated_generation_gwh_2021    18816\n",
       "dtype: int64"
      ]
     },
     "execution_count": 12,
     "metadata": {},
     "output_type": "execute_result"
    }
   ],
   "source": [
    "power_plants.isna().sum()"
   ]
  },
  {
   "cell_type": "markdown",
   "metadata": {},
   "source": [
    "we have alot of null values! we will be dropping these columns as they do not benefit us currently"
   ]
  },
  {
   "cell_type": "code",
   "execution_count": 13,
   "metadata": {},
   "outputs": [
    {
     "data": {
      "text/plain": [
       "0"
      ]
     },
     "execution_count": 13,
     "metadata": {},
     "output_type": "execute_result"
    }
   ],
   "source": [
    "power_plants.duplicated().sum()"
   ]
  },
  {
   "cell_type": "markdown",
   "metadata": {},
   "source": [
    "### Some Transformations:"
   ]
  },
  {
   "cell_type": "markdown",
   "metadata": {},
   "source": [
    "I will be merging this dataset with the countries regions one to look at the data for the countries we need"
   ]
  },
  {
   "cell_type": "code",
   "execution_count": 14,
   "metadata": {},
   "outputs": [],
   "source": [
    "# doing an inner join to keep the countries we need\n",
    "\n",
    "merged_power_plants = pd.merge(power_plants, country_region, left_on='country_long', right_on='country', how='inner')"
   ]
  },
  {
   "cell_type": "code",
   "execution_count": 15,
   "metadata": {},
   "outputs": [
    {
     "name": "stdout",
     "output_type": "stream",
     "text": [
      "<class 'pandas.core.frame.DataFrame'>\n",
      "RangeIndex: 6825 entries, 0 to 6824\n",
      "Data columns (total 17 columns):\n",
      " #   Column                         Non-Null Count  Dtype  \n",
      "---  ------                         --------------  -----  \n",
      " 0   country code                   6825 non-null   object \n",
      " 1   country_long                   6825 non-null   object \n",
      " 2   name of powerplant             6825 non-null   object \n",
      " 3   capacity in MW                 6825 non-null   float64\n",
      " 4   latitude                       6825 non-null   float64\n",
      " 5   longitude                      6825 non-null   float64\n",
      " 6   primary_fuel                   6825 non-null   object \n",
      " 7   secondary fuel                 88 non-null     object \n",
      " 8   other_fuel2                    1 non-null      object \n",
      " 9   other_fuel3                    0 non-null      object \n",
      " 10  start date                     2155 non-null   float64\n",
      " 11  owner of plant                 2615 non-null   object \n",
      " 12  generation_gwh_2021            0 non-null      float64\n",
      " 13  geolocation_source             6824 non-null   object \n",
      " 14  estimated_generation_gwh_2021  4463 non-null   float64\n",
      " 15  country                        6825 non-null   object \n",
      " 16  region                         6825 non-null   object \n",
      "dtypes: float64(6), object(11)\n",
      "memory usage: 906.6+ KB\n"
     ]
    }
   ],
   "source": [
    "merged_power_plants.info()"
   ]
  },
  {
   "cell_type": "code",
   "execution_count": 16,
   "metadata": {},
   "outputs": [
    {
     "data": {
      "text/plain": [
       "0"
      ]
     },
     "execution_count": 16,
     "metadata": {},
     "output_type": "execute_result"
    }
   ],
   "source": [
    "merged_power_plants.duplicated().sum()"
   ]
  },
  {
   "cell_type": "code",
   "execution_count": 17,
   "metadata": {},
   "outputs": [
    {
     "data": {
      "text/plain": [
       "country code                        0\n",
       "country_long                        0\n",
       "name of powerplant                  0\n",
       "capacity in MW                      0\n",
       "latitude                            0\n",
       "longitude                           0\n",
       "primary_fuel                        0\n",
       "secondary fuel                   6737\n",
       "other_fuel2                      6824\n",
       "other_fuel3                      6825\n",
       "start date                       4670\n",
       "owner of plant                   4210\n",
       "generation_gwh_2021              6825\n",
       "geolocation_source                  1\n",
       "estimated_generation_gwh_2021    2362\n",
       "country                             0\n",
       "region                              0\n",
       "dtype: int64"
      ]
     },
     "execution_count": 17,
     "metadata": {},
     "output_type": "execute_result"
    }
   ],
   "source": [
    "merged_power_plants.isna().sum()"
   ]
  },
  {
   "cell_type": "code",
   "execution_count": 18,
   "metadata": {},
   "outputs": [],
   "source": [
    "# dropping the column we won't need\n",
    "\n",
    "cleaned_power_plants = merged_power_plants.drop(columns=['secondary fuel', 'other_fuel2', 'other_fuel3', 'start date', 'owner of plant', 'generation_gwh_2021', 'estimated_generation_gwh_2021', 'country_long'], axis=1)"
   ]
  },
  {
   "cell_type": "code",
   "execution_count": 19,
   "metadata": {},
   "outputs": [],
   "source": [
    "# dropping the the null values\n",
    "\n",
    "cleaned_power_plants = cleaned_power_plants.dropna()"
   ]
  },
  {
   "cell_type": "code",
   "execution_count": 20,
   "metadata": {},
   "outputs": [
    {
     "data": {
      "text/plain": [
       "country code          0\n",
       "name of powerplant    0\n",
       "capacity in MW        0\n",
       "latitude              0\n",
       "longitude             0\n",
       "primary_fuel          0\n",
       "geolocation_source    0\n",
       "country               0\n",
       "region                0\n",
       "dtype: int64"
      ]
     },
     "execution_count": 20,
     "metadata": {},
     "output_type": "execute_result"
    }
   ],
   "source": [
    "cleaned_power_plants.isna().sum()"
   ]
  },
  {
   "cell_type": "code",
   "execution_count": 21,
   "metadata": {},
   "outputs": [
    {
     "data": {
      "text/plain": [
       "country\n",
       "France            2155\n",
       "Germany           1309\n",
       "Spain              829\n",
       "Portugal           469\n",
       "Czech Republic     462\n",
       "Italy              396\n",
       "Poland             188\n",
       "Finland            185\n",
       "Sweden             168\n",
       "Austria            103\n",
       "Greece              90\n",
       "Netherlands         71\n",
       "Belgium             69\n",
       "Romania             68\n",
       "Ireland             59\n",
       "Denmark             47\n",
       "Bulgaria            43\n",
       "Slovakia            30\n",
       "Croatia             24\n",
       "Hungary             18\n",
       "Estonia             17\n",
       "Slovenia             8\n",
       "Lithuania            6\n",
       "Latvia               5\n",
       "Cyprus               3\n",
       "Luxembourg           2\n",
       "Name: count, dtype: int64"
      ]
     },
     "execution_count": 21,
     "metadata": {},
     "output_type": "execute_result"
    }
   ],
   "source": [
    "cleaned_power_plants['country'].value_counts()"
   ]
  },
  {
   "cell_type": "markdown",
   "metadata": {},
   "source": [
    "### Checking if the dataset will be benefecial to us:"
   ]
  },
  {
   "cell_type": "code",
   "execution_count": 22,
   "metadata": {},
   "outputs": [
    {
     "data": {
      "text/plain": [
       "primary_fuel\n",
       "Solar             817\n",
       "Wind              721\n",
       "Hydro             429\n",
       "Biomass           148\n",
       "Nuclear            19\n",
       "Gas                 9\n",
       "Oil                 5\n",
       "Coal                5\n",
       "Geothermal          1\n",
       "Wave and Tidal      1\n",
       "Name: count, dtype: int64"
      ]
     },
     "execution_count": 22,
     "metadata": {},
     "output_type": "execute_result"
    }
   ],
   "source": [
    "cleaned_power_plants[cleaned_power_plants['country'] == 'France']['primary_fuel'].value_counts()"
   ]
  },
  {
   "cell_type": "code",
   "execution_count": 23,
   "metadata": {},
   "outputs": [
    {
     "data": {
      "text/plain": [
       "primary_fuel\n",
       "Wind          19\n",
       "Solar         12\n",
       "Coal          10\n",
       "Gas            3\n",
       "Geothermal     1\n",
       "Biomass        1\n",
       "Oil            1\n",
       "Name: count, dtype: int64"
      ]
     },
     "execution_count": 23,
     "metadata": {},
     "output_type": "execute_result"
    }
   ],
   "source": [
    "cleaned_power_plants[cleaned_power_plants['country'] == 'Denmark']['primary_fuel'].value_counts()"
   ]
  },
  {
   "cell_type": "code",
   "execution_count": 24,
   "metadata": {},
   "outputs": [
    {
     "data": {
      "text/plain": [
       "primary_fuel\n",
       "Hydro    3\n",
       "Gas      2\n",
       "Name: count, dtype: int64"
      ]
     },
     "execution_count": 24,
     "metadata": {},
     "output_type": "execute_result"
    }
   ],
   "source": [
    "cleaned_power_plants[cleaned_power_plants['country'] == 'Latvia']['primary_fuel'].value_counts()"
   ]
  },
  {
   "cell_type": "code",
   "execution_count": 25,
   "metadata": {},
   "outputs": [
    {
     "data": {
      "text/plain": [
       "primary_fuel\n",
       "Gas        20\n",
       "Wind       12\n",
       "Hydro      11\n",
       "Oil         9\n",
       "Waste       8\n",
       "Nuclear     3\n",
       "Solar       3\n",
       "Biomass     2\n",
       "Coal        1\n",
       "Name: count, dtype: int64"
      ]
     },
     "execution_count": 25,
     "metadata": {},
     "output_type": "execute_result"
    }
   ],
   "source": [
    "cleaned_power_plants[cleaned_power_plants['country'] == 'Belgium']['primary_fuel'].value_counts()"
   ]
  },
  {
   "cell_type": "code",
   "execution_count": 26,
   "metadata": {},
   "outputs": [
    {
     "data": {
      "text/plain": [
       "primary_fuel\n",
       "Solar      23\n",
       "Coal       11\n",
       "Hydro       7\n",
       "Nuclear     1\n",
       "Wind        1\n",
       "Name: count, dtype: int64"
      ]
     },
     "execution_count": 26,
     "metadata": {},
     "output_type": "execute_result"
    }
   ],
   "source": [
    "cleaned_power_plants[cleaned_power_plants['country'] == 'Bulgaria']['primary_fuel'].value_counts()"
   ]
  },
  {
   "cell_type": "markdown",
   "metadata": {},
   "source": [
    "as you can see most of the countries use solar or wind power which are renewable energies that dont cause any pollution, so this dataset is not very beneficial to us"
   ]
  },
  {
   "cell_type": "markdown",
   "metadata": {},
   "source": [
    "## Income Data:"
   ]
  },
  {
   "cell_type": "markdown",
   "metadata": {},
   "source": [
    "### General Look:"
   ]
  },
  {
   "cell_type": "code",
   "execution_count": 27,
   "metadata": {},
   "outputs": [
    {
     "data": {
      "text/html": [
       "<div>\n",
       "<style scoped>\n",
       "    .dataframe tbody tr th:only-of-type {\n",
       "        vertical-align: middle;\n",
       "    }\n",
       "\n",
       "    .dataframe tbody tr th {\n",
       "        vertical-align: top;\n",
       "    }\n",
       "\n",
       "    .dataframe thead th {\n",
       "        text-align: right;\n",
       "    }\n",
       "</style>\n",
       "<table border=\"1\" class=\"dataframe\">\n",
       "  <thead>\n",
       "    <tr style=\"text-align: right;\">\n",
       "      <th></th>\n",
       "      <th>Entity</th>\n",
       "      <th>Code</th>\n",
       "      <th>Year</th>\n",
       "      <th>World Bank's income classification</th>\n",
       "    </tr>\n",
       "  </thead>\n",
       "  <tbody>\n",
       "    <tr>\n",
       "      <th>3365</th>\n",
       "      <td>Ireland</td>\n",
       "      <td>IRL</td>\n",
       "      <td>2023</td>\n",
       "      <td>High-income countries</td>\n",
       "    </tr>\n",
       "    <tr>\n",
       "      <th>1057</th>\n",
       "      <td>Burkina Faso</td>\n",
       "      <td>BFA</td>\n",
       "      <td>1990</td>\n",
       "      <td>Low-income countries</td>\n",
       "    </tr>\n",
       "    <tr>\n",
       "      <th>5440</th>\n",
       "      <td>Papua New Guinea</td>\n",
       "      <td>PNG</td>\n",
       "      <td>2014</td>\n",
       "      <td>Lower-middle-income countries</td>\n",
       "    </tr>\n",
       "    <tr>\n",
       "      <th>1688</th>\n",
       "      <td>Croatia</td>\n",
       "      <td>HRV</td>\n",
       "      <td>2004</td>\n",
       "      <td>Upper-middle-income countries</td>\n",
       "    </tr>\n",
       "    <tr>\n",
       "      <th>2759</th>\n",
       "      <td>Greenland</td>\n",
       "      <td>GRL</td>\n",
       "      <td>2009</td>\n",
       "      <td>High-income countries</td>\n",
       "    </tr>\n",
       "  </tbody>\n",
       "</table>\n",
       "</div>"
      ],
      "text/plain": [
       "                Entity Code  Year World Bank's income classification\n",
       "3365           Ireland  IRL  2023              High-income countries\n",
       "1057      Burkina Faso  BFA  1990               Low-income countries\n",
       "5440  Papua New Guinea  PNG  2014      Lower-middle-income countries\n",
       "1688           Croatia  HRV  2004      Upper-middle-income countries\n",
       "2759         Greenland  GRL  2009              High-income countries"
      ]
     },
     "execution_count": 27,
     "metadata": {},
     "output_type": "execute_result"
    }
   ],
   "source": [
    "income_classification.sample(5)"
   ]
  },
  {
   "cell_type": "code",
   "execution_count": 28,
   "metadata": {},
   "outputs": [
    {
     "data": {
      "text/plain": [
       "(7661, 4)"
      ]
     },
     "execution_count": 28,
     "metadata": {},
     "output_type": "execute_result"
    }
   ],
   "source": [
    "income_classification.shape"
   ]
  },
  {
   "cell_type": "code",
   "execution_count": 29,
   "metadata": {},
   "outputs": [
    {
     "name": "stdout",
     "output_type": "stream",
     "text": [
      "<class 'pandas.core.frame.DataFrame'>\n",
      "RangeIndex: 7661 entries, 0 to 7660\n",
      "Data columns (total 4 columns):\n",
      " #   Column                              Non-Null Count  Dtype \n",
      "---  ------                              --------------  ----- \n",
      " 0   Entity                              7661 non-null   object\n",
      " 1   Code                                7661 non-null   object\n",
      " 2   Year                                7661 non-null   int64 \n",
      " 3   World Bank's income classification  7661 non-null   object\n",
      "dtypes: int64(1), object(3)\n",
      "memory usage: 239.5+ KB\n"
     ]
    }
   ],
   "source": [
    "income_classification.info()"
   ]
  },
  {
   "cell_type": "markdown",
   "metadata": {},
   "source": [
    "### Data Cleaning:"
   ]
  },
  {
   "cell_type": "code",
   "execution_count": 30,
   "metadata": {},
   "outputs": [
    {
     "data": {
      "text/plain": [
       "0"
      ]
     },
     "execution_count": 30,
     "metadata": {},
     "output_type": "execute_result"
    }
   ],
   "source": [
    "income_classification.duplicated().sum()"
   ]
  },
  {
   "cell_type": "code",
   "execution_count": 31,
   "metadata": {},
   "outputs": [
    {
     "data": {
      "text/plain": [
       "Entity                                0\n",
       "Code                                  0\n",
       "Year                                  0\n",
       "World Bank's income classification    0\n",
       "dtype: int64"
      ]
     },
     "execution_count": 31,
     "metadata": {},
     "output_type": "execute_result"
    }
   ],
   "source": [
    "income_classification.isna().sum()"
   ]
  },
  {
   "cell_type": "markdown",
   "metadata": {},
   "source": [
    "### Some Transformations:"
   ]
  },
  {
   "cell_type": "code",
   "execution_count": 32,
   "metadata": {},
   "outputs": [],
   "source": [
    "income_merged = country_region.merge(income_classification, left_on='country', right_on='Entity', how='inner')"
   ]
  },
  {
   "cell_type": "code",
   "execution_count": 33,
   "metadata": {},
   "outputs": [],
   "source": [
    "income_merged = income_merged.drop('Entity', axis=1)"
   ]
  },
  {
   "cell_type": "code",
   "execution_count": 34,
   "metadata": {},
   "outputs": [
    {
     "name": "stdout",
     "output_type": "stream",
     "text": [
      "<class 'pandas.core.frame.DataFrame'>\n",
      "RangeIndex: 933 entries, 0 to 932\n",
      "Data columns (total 5 columns):\n",
      " #   Column                              Non-Null Count  Dtype \n",
      "---  ------                              --------------  ----- \n",
      " 0   country                             933 non-null    object\n",
      " 1   region                              933 non-null    object\n",
      " 2   Code                                933 non-null    object\n",
      " 3   Year                                933 non-null    int64 \n",
      " 4   World Bank's income classification  933 non-null    object\n",
      "dtypes: int64(1), object(4)\n",
      "memory usage: 36.6+ KB\n"
     ]
    }
   ],
   "source": [
    "income_merged.info()"
   ]
  },
  {
   "cell_type": "code",
   "execution_count": 35,
   "metadata": {},
   "outputs": [
    {
     "data": {
      "text/plain": [
       "0"
      ]
     },
     "execution_count": 35,
     "metadata": {},
     "output_type": "execute_result"
    }
   ],
   "source": [
    "income_merged.duplicated().sum()"
   ]
  },
  {
   "cell_type": "code",
   "execution_count": 36,
   "metadata": {},
   "outputs": [
    {
     "data": {
      "text/plain": [
       "country                               0\n",
       "region                                0\n",
       "Code                                  0\n",
       "Year                                  0\n",
       "World Bank's income classification    0\n",
       "dtype: int64"
      ]
     },
     "execution_count": 36,
     "metadata": {},
     "output_type": "execute_result"
    }
   ],
   "source": [
    "income_merged.isna().sum()"
   ]
  },
  {
   "cell_type": "code",
   "execution_count": 37,
   "metadata": {},
   "outputs": [
    {
     "name": "stdout",
     "output_type": "stream",
     "text": [
      "1987\n",
      "2023\n"
     ]
    }
   ],
   "source": [
    "# checking the min and max years in the dataset:\n",
    "\n",
    "print(income_merged.Year.min())\n",
    "print(income_merged.Year.max())"
   ]
  },
  {
   "cell_type": "code",
   "execution_count": 38,
   "metadata": {},
   "outputs": [],
   "source": [
    "# keeping the years that we want to use\n",
    "\n",
    "income_merged = income_merged[(income_merged.Year >= 2014 ) & (income_merged.Year <= 2023)]"
   ]
  },
  {
   "cell_type": "code",
   "execution_count": 39,
   "metadata": {},
   "outputs": [
    {
     "name": "stdout",
     "output_type": "stream",
     "text": [
      "2014\n",
      "2023\n"
     ]
    }
   ],
   "source": [
    "print(income_merged.Year.min())\n",
    "print(income_merged.Year.max())"
   ]
  },
  {
   "cell_type": "markdown",
   "metadata": {},
   "source": [
    "now since I want to load the data incrementally into the warehouse, I will divide the data based on the year:"
   ]
  },
  {
   "cell_type": "code",
   "execution_count": 41,
   "metadata": {},
   "outputs": [],
   "source": [
    "income_merged[income_merged['Year'] == 2014].to_csv(\"..\\\\0.1.Data Used\\\\income data\\\\income_2014\")\n",
    "income_merged[income_merged['Year'] == 2015].to_csv(\"..\\\\0.1.Data Used\\\\income data\\\\income_2015\")\n",
    "income_merged[income_merged['Year'] == 2016].to_csv(\"..\\\\0.1.Data Used\\\\income data\\\\income_2016\")\n",
    "income_merged[income_merged['Year'] == 2017].to_csv(\"..\\\\0.1.Data Used\\\\income data\\\\income_2017\")\n",
    "income_merged[income_merged['Year'] == 2018].to_csv(\"..\\\\0.1.Data Used\\\\income data\\\\income_2018\")\n",
    "income_merged[income_merged['Year'] == 2019].to_csv(\"..\\\\0.1.Data Used\\\\income data\\\\income_2019\")\n",
    "income_merged[income_merged['Year'] == 2020].to_csv(\"..\\\\0.1.Data Used\\\\income data\\\\income_2020\")\n",
    "income_merged[income_merged['Year'] == 2021].to_csv(\"..\\\\0.1.Data Used\\\\income data\\\\income_2021\")\n",
    "income_merged[income_merged['Year'] == 2022].to_csv(\"..\\\\0.1.Data Used\\\\income data\\\\income_2022\")\n",
    "income_merged[income_merged['Year'] == 2023].to_csv(\"..\\\\0.1.Data Used\\\\income data\\\\income_2023\")"
   ]
  }
 ],
 "metadata": {
  "kernelspec": {
   "display_name": ".venv",
   "language": "python",
   "name": "python3"
  },
  "language_info": {
   "codemirror_mode": {
    "name": "ipython",
    "version": 3
   },
   "file_extension": ".py",
   "mimetype": "text/x-python",
   "name": "python",
   "nbconvert_exporter": "python",
   "pygments_lexer": "ipython3",
   "version": "3.12.4"
  }
 },
 "nbformat": 4,
 "nbformat_minor": 2
}
