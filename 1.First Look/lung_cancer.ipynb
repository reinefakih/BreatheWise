{
 "cells": [
  {
   "cell_type": "markdown",
   "metadata": {},
   "source": [
    "# Lung Cancer Dataset:"
   ]
  },
  {
   "cell_type": "markdown",
   "metadata": {},
   "source": [
    "-------------------------------------------------------"
   ]
  },
  {
   "cell_type": "markdown",
   "metadata": {},
   "source": [
    "## Opening the Data:"
   ]
  },
  {
   "cell_type": "code",
   "execution_count": 13,
   "metadata": {},
   "outputs": [],
   "source": [
    "# import statement:\n",
    "\n",
    "import pandas as pd\n",
    "import numpy as np"
   ]
  },
  {
   "cell_type": "code",
   "execution_count": 14,
   "metadata": {},
   "outputs": [],
   "source": [
    "# reading the csv:\n",
    "\n",
    "df = pd.read_csv(\"../0.Data/lung_cancer_synthesized.csv\")"
   ]
  },
  {
   "cell_type": "code",
   "execution_count": 15,
   "metadata": {},
   "outputs": [
    {
     "data": {
      "text/html": [
       "<div>\n",
       "<style scoped>\n",
       "    .dataframe tbody tr th:only-of-type {\n",
       "        vertical-align: middle;\n",
       "    }\n",
       "\n",
       "    .dataframe tbody tr th {\n",
       "        vertical-align: top;\n",
       "    }\n",
       "\n",
       "    .dataframe thead th {\n",
       "        text-align: right;\n",
       "    }\n",
       "</style>\n",
       "<table border=\"1\" class=\"dataframe\">\n",
       "  <thead>\n",
       "    <tr style=\"text-align: right;\">\n",
       "      <th></th>\n",
       "      <th>Unnamed: 0.1</th>\n",
       "      <th>Unnamed: 0</th>\n",
       "      <th>id</th>\n",
       "      <th>age</th>\n",
       "      <th>gender</th>\n",
       "      <th>country</th>\n",
       "      <th>diagnosis_date</th>\n",
       "      <th>cancer_stage</th>\n",
       "      <th>beginning_of_treatment_date</th>\n",
       "      <th>family_history</th>\n",
       "      <th>smoking_status</th>\n",
       "      <th>bmi</th>\n",
       "      <th>cholesterol_level</th>\n",
       "      <th>hypertension</th>\n",
       "      <th>asthma</th>\n",
       "      <th>cirrhosis</th>\n",
       "      <th>other_cancer</th>\n",
       "      <th>treatment_type</th>\n",
       "      <th>end_treatment_date</th>\n",
       "      <th>survived</th>\n",
       "    </tr>\n",
       "  </thead>\n",
       "  <tbody>\n",
       "    <tr>\n",
       "      <th>2858075</th>\n",
       "      <td>2858075</td>\n",
       "      <td>2858075</td>\n",
       "      <td>2184060</td>\n",
       "      <td>38.0</td>\n",
       "      <td>Male</td>\n",
       "      <td>France</td>\n",
       "      <td>2023-08-08</td>\n",
       "      <td>Stage II</td>\n",
       "      <td>2023-08-09</td>\n",
       "      <td>Yes</td>\n",
       "      <td>Current Smoker</td>\n",
       "      <td>29.5</td>\n",
       "      <td>177</td>\n",
       "      <td>1</td>\n",
       "      <td>0</td>\n",
       "      <td>0</td>\n",
       "      <td>0</td>\n",
       "      <td>Radiation</td>\n",
       "      <td>2024-11-27</td>\n",
       "      <td>0</td>\n",
       "    </tr>\n",
       "    <tr>\n",
       "      <th>831804</th>\n",
       "      <td>831804</td>\n",
       "      <td>831804</td>\n",
       "      <td>314002</td>\n",
       "      <td>58.0</td>\n",
       "      <td>Male</td>\n",
       "      <td>Spain</td>\n",
       "      <td>2017-03-02</td>\n",
       "      <td>Stage IV</td>\n",
       "      <td>2017-03-06</td>\n",
       "      <td>Yes</td>\n",
       "      <td>Current Smoker</td>\n",
       "      <td>16.4</td>\n",
       "      <td>171</td>\n",
       "      <td>1</td>\n",
       "      <td>0</td>\n",
       "      <td>0</td>\n",
       "      <td>0</td>\n",
       "      <td>Chemotherapy</td>\n",
       "      <td>2017-11-05</td>\n",
       "      <td>0</td>\n",
       "    </tr>\n",
       "    <tr>\n",
       "      <th>1447662</th>\n",
       "      <td>1447662</td>\n",
       "      <td>1447662</td>\n",
       "      <td>1361647</td>\n",
       "      <td>57.0</td>\n",
       "      <td>Male</td>\n",
       "      <td>Netherlands</td>\n",
       "      <td>2019-03-10</td>\n",
       "      <td>Stage I</td>\n",
       "      <td>2019-03-26</td>\n",
       "      <td>No</td>\n",
       "      <td>Passive Smoker</td>\n",
       "      <td>37.7</td>\n",
       "      <td>283</td>\n",
       "      <td>1</td>\n",
       "      <td>0</td>\n",
       "      <td>0</td>\n",
       "      <td>0</td>\n",
       "      <td>Combined</td>\n",
       "      <td>2020-05-10</td>\n",
       "      <td>1</td>\n",
       "    </tr>\n",
       "    <tr>\n",
       "      <th>795160</th>\n",
       "      <td>795160</td>\n",
       "      <td>795160</td>\n",
       "      <td>2321783</td>\n",
       "      <td>44.0</td>\n",
       "      <td>Female</td>\n",
       "      <td>Lithuania</td>\n",
       "      <td>2017-01-16</td>\n",
       "      <td>Stage IV</td>\n",
       "      <td>2017-01-21</td>\n",
       "      <td>No</td>\n",
       "      <td>Former Smoker</td>\n",
       "      <td>32.1</td>\n",
       "      <td>270</td>\n",
       "      <td>1</td>\n",
       "      <td>0</td>\n",
       "      <td>0</td>\n",
       "      <td>0</td>\n",
       "      <td>Chemotherapy</td>\n",
       "      <td>2018-04-12</td>\n",
       "      <td>0</td>\n",
       "    </tr>\n",
       "    <tr>\n",
       "      <th>1852140</th>\n",
       "      <td>1852140</td>\n",
       "      <td>1852140</td>\n",
       "      <td>2343756</td>\n",
       "      <td>56.0</td>\n",
       "      <td>Female</td>\n",
       "      <td>Spain</td>\n",
       "      <td>2020-06-23</td>\n",
       "      <td>Stage IV</td>\n",
       "      <td>2020-06-28</td>\n",
       "      <td>Yes</td>\n",
       "      <td>Never Smoked</td>\n",
       "      <td>20.6</td>\n",
       "      <td>157</td>\n",
       "      <td>0</td>\n",
       "      <td>0</td>\n",
       "      <td>0</td>\n",
       "      <td>0</td>\n",
       "      <td>Combined</td>\n",
       "      <td>2021-03-10</td>\n",
       "      <td>0</td>\n",
       "    </tr>\n",
       "  </tbody>\n",
       "</table>\n",
       "</div>"
      ],
      "text/plain": [
       "         Unnamed: 0.1  Unnamed: 0       id   age  gender      country  \\\n",
       "2858075       2858075     2858075  2184060  38.0    Male       France   \n",
       "831804         831804      831804   314002  58.0    Male        Spain   \n",
       "1447662       1447662     1447662  1361647  57.0    Male  Netherlands   \n",
       "795160         795160      795160  2321783  44.0  Female    Lithuania   \n",
       "1852140       1852140     1852140  2343756  56.0  Female        Spain   \n",
       "\n",
       "        diagnosis_date cancer_stage beginning_of_treatment_date  \\\n",
       "2858075     2023-08-08     Stage II                  2023-08-09   \n",
       "831804      2017-03-02     Stage IV                  2017-03-06   \n",
       "1447662     2019-03-10      Stage I                  2019-03-26   \n",
       "795160      2017-01-16     Stage IV                  2017-01-21   \n",
       "1852140     2020-06-23     Stage IV                  2020-06-28   \n",
       "\n",
       "        family_history  smoking_status   bmi  cholesterol_level  hypertension  \\\n",
       "2858075            Yes  Current Smoker  29.5                177             1   \n",
       "831804             Yes  Current Smoker  16.4                171             1   \n",
       "1447662             No  Passive Smoker  37.7                283             1   \n",
       "795160              No   Former Smoker  32.1                270             1   \n",
       "1852140            Yes    Never Smoked  20.6                157             0   \n",
       "\n",
       "         asthma  cirrhosis  other_cancer treatment_type end_treatment_date  \\\n",
       "2858075       0          0             0      Radiation         2024-11-27   \n",
       "831804        0          0             0   Chemotherapy         2017-11-05   \n",
       "1447662       0          0             0       Combined         2020-05-10   \n",
       "795160        0          0             0   Chemotherapy         2018-04-12   \n",
       "1852140       0          0             0       Combined         2021-03-10   \n",
       "\n",
       "         survived  \n",
       "2858075         0  \n",
       "831804          0  \n",
       "1447662         1  \n",
       "795160          0  \n",
       "1852140         0  "
      ]
     },
     "execution_count": 15,
     "metadata": {},
     "output_type": "execute_result"
    }
   ],
   "source": [
    "# looking at a random sample:\n",
    "\n",
    "df.sample(5)"
   ]
  },
  {
   "cell_type": "markdown",
   "metadata": {},
   "source": [
    "## General Information:"
   ]
  },
  {
   "cell_type": "code",
   "execution_count": 16,
   "metadata": {},
   "outputs": [
    {
     "data": {
      "text/plain": [
       "(3123586, 20)"
      ]
     },
     "execution_count": 16,
     "metadata": {},
     "output_type": "execute_result"
    }
   ],
   "source": [
    "# seeing how many rows and columns we have in the dataset\n",
    "\n",
    "df.shape"
   ]
  },
  {
   "cell_type": "code",
   "execution_count": 17,
   "metadata": {},
   "outputs": [
    {
     "name": "stdout",
     "output_type": "stream",
     "text": [
      "<class 'pandas.core.frame.DataFrame'>\n",
      "RangeIndex: 3123586 entries, 0 to 3123585\n",
      "Data columns (total 20 columns):\n",
      " #   Column                       Dtype  \n",
      "---  ------                       -----  \n",
      " 0   Unnamed: 0.1                 int64  \n",
      " 1   Unnamed: 0                   int64  \n",
      " 2   id                           int64  \n",
      " 3   age                          float64\n",
      " 4   gender                       object \n",
      " 5   country                      object \n",
      " 6   diagnosis_date               object \n",
      " 7   cancer_stage                 object \n",
      " 8   beginning_of_treatment_date  object \n",
      " 9   family_history               object \n",
      " 10  smoking_status               object \n",
      " 11  bmi                          float64\n",
      " 12  cholesterol_level            int64  \n",
      " 13  hypertension                 int64  \n",
      " 14  asthma                       int64  \n",
      " 15  cirrhosis                    int64  \n",
      " 16  other_cancer                 int64  \n",
      " 17  treatment_type               object \n",
      " 18  end_treatment_date           object \n",
      " 19  survived                     int64  \n",
      "dtypes: float64(2), int64(9), object(9)\n",
      "memory usage: 476.6+ MB\n"
     ]
    }
   ],
   "source": [
    "# getting some information about the columns in the dataset\n",
    "\n",
    "df.info()"
   ]
  },
  {
   "cell_type": "markdown",
   "metadata": {},
   "source": [
    "## Cleaning the Data:"
   ]
  },
  {
   "cell_type": "markdown",
   "metadata": {},
   "source": [
    "Let us see if we have any duplicated values and null values:"
   ]
  },
  {
   "cell_type": "code",
   "execution_count": 18,
   "metadata": {},
   "outputs": [
    {
     "data": {
      "text/plain": [
       "0"
      ]
     },
     "execution_count": 18,
     "metadata": {},
     "output_type": "execute_result"
    }
   ],
   "source": [
    "# checking for duplicates:\n",
    "\n",
    "df.duplicated().sum()"
   ]
  },
  {
   "cell_type": "code",
   "execution_count": 19,
   "metadata": {},
   "outputs": [
    {
     "data": {
      "text/plain": [
       "Unnamed: 0.1                   0\n",
       "Unnamed: 0                     0\n",
       "id                             0\n",
       "age                            0\n",
       "gender                         0\n",
       "country                        0\n",
       "diagnosis_date                 0\n",
       "cancer_stage                   0\n",
       "beginning_of_treatment_date    0\n",
       "family_history                 0\n",
       "smoking_status                 0\n",
       "bmi                            0\n",
       "cholesterol_level              0\n",
       "hypertension                   0\n",
       "asthma                         0\n",
       "cirrhosis                      0\n",
       "other_cancer                   0\n",
       "treatment_type                 0\n",
       "end_treatment_date             0\n",
       "survived                       0\n",
       "dtype: int64"
      ]
     },
     "execution_count": 19,
     "metadata": {},
     "output_type": "execute_result"
    }
   ],
   "source": [
    "# checking for nulls\n",
    "\n",
    "df.isna().sum()"
   ]
  },
  {
   "cell_type": "markdown",
   "metadata": {},
   "source": [
    "## Fast Transformations:"
   ]
  },
  {
   "cell_type": "code",
   "execution_count": 20,
   "metadata": {},
   "outputs": [
    {
     "data": {
      "text/plain": [
       "year\n",
       "2022    325498\n",
       "2021    324990\n",
       "2023    324467\n",
       "2019    317969\n",
       "2015    310774\n",
       "2018    307012\n",
       "2020    305953\n",
       "2016    304854\n",
       "2017    298011\n",
       "2014    167221\n",
       "2024    136837\n",
       "Name: count, dtype: int64"
      ]
     },
     "execution_count": 20,
     "metadata": {},
     "output_type": "execute_result"
    }
   ],
   "source": [
    "# getting the year of the diagnosis from the dataset and seeing the distribution of the data over the years:\n",
    "\n",
    "df['diagnosis_date'] = pd.to_datetime(df['diagnosis_date'])\n",
    "df['year'] = df['diagnosis_date'].dt.year\n",
    "df['year'].value_counts()"
   ]
  },
  {
   "cell_type": "code",
   "execution_count": 21,
   "metadata": {},
   "outputs": [
    {
     "data": {
      "text/plain": [
       "0          2014-06\n",
       "1          2014-06\n",
       "2          2014-06\n",
       "3          2014-06\n",
       "4          2014-06\n",
       "            ...   \n",
       "3123581    2024-06\n",
       "3123582    2024-06\n",
       "3123583    2024-06\n",
       "3123584    2024-06\n",
       "3123585    2024-06\n",
       "Name: year_month, Length: 3123586, dtype: object"
      ]
     },
     "execution_count": 21,
     "metadata": {},
     "output_type": "execute_result"
    }
   ],
   "source": [
    "df['year_month'] = df['diagnosis_date'].dt.strftime('%Y-%m')\n",
    "df['year_month']"
   ]
  },
  {
   "cell_type": "code",
   "execution_count": 22,
   "metadata": {},
   "outputs": [
    {
     "data": {
      "text/plain": [
       "year_etd\n",
       "2023    325004\n",
       "2024    324850\n",
       "2022    319605\n",
       "2020    314421\n",
       "2021    310183\n",
       "2017    305616\n",
       "2019    304774\n",
       "2018    300294\n",
       "2016    291609\n",
       "2025    204928\n",
       "2015    107426\n",
       "2026     14443\n",
       "2014       433\n",
       "Name: count, dtype: int64"
      ]
     },
     "execution_count": 22,
     "metadata": {},
     "output_type": "execute_result"
    }
   ],
   "source": [
    "df['end_treatment_date'] = pd.to_datetime(df['end_treatment_date'])\n",
    "df['year_etd'] = df['end_treatment_date'].dt.year\n",
    "df['year_etd'].value_counts()"
   ]
  },
  {
   "cell_type": "code",
   "execution_count": 26,
   "metadata": {},
   "outputs": [
    {
     "data": {
      "text/plain": [
       "Index(['Unnamed: 0.1', 'Unnamed: 0', 'id', 'age', 'gender', 'country',\n",
       "       'diagnosis_date', 'cancer_stage', 'beginning_of_treatment_date',\n",
       "       'family_history', 'smoking_status', 'bmi', 'cholesterol_level',\n",
       "       'hypertension', 'asthma', 'cirrhosis', 'other_cancer', 'treatment_type',\n",
       "       'end_treatment_date', 'survived', 'year', 'year_month', 'year_etd'],\n",
       "      dtype='object')"
      ]
     },
     "execution_count": 26,
     "metadata": {},
     "output_type": "execute_result"
    }
   ],
   "source": [
    "df.columns"
   ]
  },
  {
   "cell_type": "code",
   "execution_count": 27,
   "metadata": {},
   "outputs": [],
   "source": [
    "df = df[['id', 'age', 'gender', 'country', 'diagnosis_date', 'cancer_stage', 'beginning_of_treatment_date', 'family_history', 'smoking_status', 'bmi', 'cholesterol_level', 'hypertension', 'asthma', 'cirrhosis', 'other_cancer', 'treatment_type',\n",
    "       'end_treatment_date', 'survived', 'year']]"
   ]
  },
  {
   "cell_type": "code",
   "execution_count": 28,
   "metadata": {},
   "outputs": [
    {
     "data": {
      "text/plain": [
       "19"
      ]
     },
     "execution_count": 28,
     "metadata": {},
     "output_type": "execute_result"
    }
   ],
   "source": [
    "len(df.columns)"
   ]
  },
  {
   "cell_type": "code",
   "execution_count": 23,
   "metadata": {},
   "outputs": [],
   "source": [
    "# df.to_csv(\"lung_cancer.csv\")"
   ]
  },
  {
   "cell_type": "markdown",
   "metadata": {},
   "source": [
    "I will be partitioning the data by years so I can load it incrementally in the warehouse!"
   ]
  },
  {
   "cell_type": "code",
   "execution_count": 29,
   "metadata": {},
   "outputs": [],
   "source": [
    "df[df['year'] == 2014].to_csv(\"..\\\\0.1.Data Used\\\\cancer data\\\\cancer_2014.csv\", index=False)\n",
    "df[df['year'] == 2015].to_csv(\"..\\\\0.1.Data Used\\\\cancer data\\\\cancer_2015.csv\", index=False)\n",
    "df[df['year'] == 2016].to_csv(\"..\\\\0.1.Data Used\\\\cancer data\\\\cancer_2016.csv\", index=False)\n",
    "df[df['year'] == 2017].to_csv(\"..\\\\0.1.Data Used\\\\cancer data\\\\cancer_2017.csv\", index=False)\n",
    "df[df['year'] == 2018].to_csv(\"..\\\\0.1.Data Used\\\\cancer data\\\\cancer_2018.csv\", index=False)\n",
    "df[df['year'] == 2019].to_csv(\"..\\\\0.1.Data Used\\\\cancer data\\\\cancer_2019.csv\", index=False)\n",
    "df[df['year'] == 2020].to_csv(\"..\\\\0.1.Data Used\\\\cancer data\\\\cancer_2020.csv\", index=False)\n",
    "df[df['year'] == 2021].to_csv(\"..\\\\0.1.Data Used\\\\cancer data\\\\cancer_2021.csv\", index=False)\n",
    "df[df['year'] == 2022].to_csv(\"..\\\\0.1.Data Used\\\\cancer data\\\\cancer_2022.csv\", index=False)\n",
    "df[df['year'] == 2023].to_csv(\"..\\\\0.1.Data Used\\\\cancer data\\\\cancer_2023.csv\", index=False)\n",
    "df[df['year'] == 2024].to_csv(\"..\\\\0.1.Data Used\\\\cancer data\\\\cancer_2024.csv\", index=False)"
   ]
  }
 ],
 "metadata": {
  "kernelspec": {
   "display_name": ".venv",
   "language": "python",
   "name": "python3"
  },
  "language_info": {
   "codemirror_mode": {
    "name": "ipython",
    "version": 3
   },
   "file_extension": ".py",
   "mimetype": "text/x-python",
   "name": "python",
   "nbconvert_exporter": "python",
   "pygments_lexer": "ipython3",
   "version": "3.12.4"
  }
 },
 "nbformat": 4,
 "nbformat_minor": 2
}
