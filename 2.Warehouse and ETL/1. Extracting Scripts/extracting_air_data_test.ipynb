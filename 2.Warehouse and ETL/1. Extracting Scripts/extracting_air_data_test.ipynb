{
 "cells": [
  {
   "cell_type": "code",
   "execution_count": 1,
   "metadata": {},
   "outputs": [],
   "source": [
    "\n",
    "import pyarrow.parquet as pq\n",
    "import pandas as pd"
   ]
  },
  {
   "cell_type": "code",
   "execution_count": 2,
   "metadata": {},
   "outputs": [
    {
     "name": "stdout",
     "output_type": "stream",
     "text": [
      "<class 'pandas.core.frame.DataFrame'>\n",
      "RangeIndex: 1424 entries, 0 to 1423\n",
      "Data columns (total 4 columns):\n",
      " #   Column         Non-Null Count  Dtype    \n",
      "---  ------         --------------  -----    \n",
      " 0   year_month     1424 non-null   period[M]\n",
      " 1   Value          1424 non-null   float64  \n",
      " 2   CountryCode    1424 non-null   object   \n",
      " 3   PollutantName  1424 non-null   object   \n",
      "dtypes: float64(1), object(2), period[M](1)\n",
      "memory usage: 44.6+ KB\n"
     ]
    }
   ],
   "source": [
    "df_2014 = pq.read_table(\"..\\\\..\\\\0.1.Data Used\\\\air data\\\\2014.parquet\").to_pandas()\n",
    "df_2014.info()"
   ]
  },
  {
   "cell_type": "code",
   "execution_count": 3,
   "metadata": {},
   "outputs": [
    {
     "data": {
      "text/plain": [
       "0       2014\n",
       "1       2014\n",
       "2       2014\n",
       "3       2014\n",
       "4       2014\n",
       "        ... \n",
       "1419    2014\n",
       "1420    2014\n",
       "1421    2014\n",
       "1422    2014\n",
       "1423    2014\n",
       "Name: year_month, Length: 1424, dtype: int64"
      ]
     },
     "execution_count": 3,
     "metadata": {},
     "output_type": "execute_result"
    }
   ],
   "source": [
    "df_2014['year_month'].dt.year"
   ]
  }
 ],
 "metadata": {
  "kernelspec": {
   "display_name": ".venv",
   "language": "python",
   "name": "python3"
  },
  "language_info": {
   "codemirror_mode": {
    "name": "ipython",
    "version": 3
   },
   "file_extension": ".py",
   "mimetype": "text/x-python",
   "name": "python",
   "nbconvert_exporter": "python",
   "pygments_lexer": "ipython3",
   "version": "3.12.4"
  }
 },
 "nbformat": 4,
 "nbformat_minor": 2
}
