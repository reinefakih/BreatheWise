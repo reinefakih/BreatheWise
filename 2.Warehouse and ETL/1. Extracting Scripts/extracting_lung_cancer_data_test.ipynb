{
 "cells": [
  {
   "cell_type": "markdown",
   "metadata": {},
   "source": [
    "# Lung Cancer Extraction Test:"
   ]
  },
  {
   "cell_type": "markdown",
   "metadata": {},
   "source": [
    "------------------------"
   ]
  },
  {
   "cell_type": "markdown",
   "metadata": {},
   "source": [
    "In this note book i will be testing the lung cancer extraction process to then turn it into a script:"
   ]
  },
  {
   "cell_type": "markdown",
   "metadata": {},
   "source": [
    "I will be testing the extraction on the 2014 data :D"
   ]
  },
  {
   "cell_type": "code",
   "execution_count": 1,
   "metadata": {},
   "outputs": [],
   "source": [
    "# import statements:\n",
    "import sqlalchemy as sa\n",
    "import pandas as pd\n",
    "import os"
   ]
  },
  {
   "cell_type": "code",
   "execution_count": 43,
   "metadata": {},
   "outputs": [],
   "source": [
    "connection_url = f\"mysql+pymysql://{os.getenv('test_db_username')}:{os.getenv('test_db_password')}@{os.getenv('test_db_hostname')}/{os.getenv('test_db_database_name')}\"\n",
    "db_engine = sa.create_engine(connection_url)"
   ]
  },
  {
   "cell_type": "code",
   "execution_count": 51,
   "metadata": {},
   "outputs": [
    {
     "name": "stdout",
     "output_type": "stream",
     "text": [
      "(1,)\n"
     ]
    }
   ],
   "source": [
    "with db_engine.connect() as conn:\n",
    "    result = conn.execute(sa.text(\"SELECT 1\"))\n",
    "    print(result.fetchone())"
   ]
  },
  {
   "cell_type": "code",
   "execution_count": 2,
   "metadata": {},
   "outputs": [],
   "source": [
    "data = pd.read_csv(\"..\\\\..\\\\0.1.Data Used\\\\cancer data\\\\cancer_2014.csv\")"
   ]
  },
  {
   "cell_type": "code",
   "execution_count": 6,
   "metadata": {},
   "outputs": [
    {
     "data": {
      "text/plain": [
       "[2014]"
      ]
     },
     "execution_count": 6,
     "metadata": {},
     "output_type": "execute_result"
    }
   ],
   "source": [
    "data['year'].unique().tolist()"
   ]
  },
  {
   "cell_type": "code",
   "execution_count": 13,
   "metadata": {},
   "outputs": [
    {
     "data": {
      "text/html": [
       "<div>\n",
       "<style scoped>\n",
       "    .dataframe tbody tr th:only-of-type {\n",
       "        vertical-align: middle;\n",
       "    }\n",
       "\n",
       "    .dataframe tbody tr th {\n",
       "        vertical-align: top;\n",
       "    }\n",
       "\n",
       "    .dataframe thead th {\n",
       "        text-align: right;\n",
       "    }\n",
       "</style>\n",
       "<table border=\"1\" class=\"dataframe\">\n",
       "  <thead>\n",
       "    <tr style=\"text-align: right;\">\n",
       "      <th></th>\n",
       "      <th>Unnamed: 0</th>\n",
       "      <th>id</th>\n",
       "      <th>age</th>\n",
       "      <th>gender</th>\n",
       "      <th>country</th>\n",
       "      <th>diagnosis_date</th>\n",
       "      <th>cancer_stage</th>\n",
       "      <th>beginning_of_treatment_date</th>\n",
       "      <th>family_history</th>\n",
       "      <th>smoking_status</th>\n",
       "      <th>bmi</th>\n",
       "      <th>cholesterol_level</th>\n",
       "      <th>hypertension</th>\n",
       "      <th>asthma</th>\n",
       "      <th>cirrhosis</th>\n",
       "      <th>other_cancer</th>\n",
       "      <th>treatment_type</th>\n",
       "      <th>end_treatment_date</th>\n",
       "      <th>survived</th>\n",
       "      <th>year</th>\n",
       "    </tr>\n",
       "  </thead>\n",
       "  <tbody>\n",
       "    <tr>\n",
       "      <th>29476</th>\n",
       "      <td>513771</td>\n",
       "      <td>513772</td>\n",
       "      <td>72.0</td>\n",
       "      <td>Male</td>\n",
       "      <td>Greece</td>\n",
       "      <td>2014-11-30</td>\n",
       "      <td>Stage I</td>\n",
       "      <td>2014-12-06</td>\n",
       "      <td>No</td>\n",
       "      <td>Never Smoked</td>\n",
       "      <td>23.2</td>\n",
       "      <td>192</td>\n",
       "      <td>1</td>\n",
       "      <td>1</td>\n",
       "      <td>0</td>\n",
       "      <td>0</td>\n",
       "      <td>Chemotherapy</td>\n",
       "      <td>2016-07-14</td>\n",
       "      <td>0</td>\n",
       "      <td>2014</td>\n",
       "    </tr>\n",
       "    <tr>\n",
       "      <th>159262</th>\n",
       "      <td>2762223</td>\n",
       "      <td>2762224</td>\n",
       "      <td>61.0</td>\n",
       "      <td>Female</td>\n",
       "      <td>Germany</td>\n",
       "      <td>2014-07-29</td>\n",
       "      <td>Stage III</td>\n",
       "      <td>2014-08-08</td>\n",
       "      <td>No</td>\n",
       "      <td>Current Smoker</td>\n",
       "      <td>18.8</td>\n",
       "      <td>194</td>\n",
       "      <td>0</td>\n",
       "      <td>1</td>\n",
       "      <td>1</td>\n",
       "      <td>0</td>\n",
       "      <td>Radiation</td>\n",
       "      <td>2015-02-04</td>\n",
       "      <td>0</td>\n",
       "      <td>2014</td>\n",
       "    </tr>\n",
       "    <tr>\n",
       "      <th>124869</th>\n",
       "      <td>2167932</td>\n",
       "      <td>2167933</td>\n",
       "      <td>79.0</td>\n",
       "      <td>Male</td>\n",
       "      <td>Luxembourg</td>\n",
       "      <td>2014-08-06</td>\n",
       "      <td>Stage III</td>\n",
       "      <td>2014-08-19</td>\n",
       "      <td>Yes</td>\n",
       "      <td>Current Smoker</td>\n",
       "      <td>20.0</td>\n",
       "      <td>160</td>\n",
       "      <td>1</td>\n",
       "      <td>1</td>\n",
       "      <td>0</td>\n",
       "      <td>0</td>\n",
       "      <td>Radiation</td>\n",
       "      <td>2016-06-07</td>\n",
       "      <td>0</td>\n",
       "      <td>2014</td>\n",
       "    </tr>\n",
       "    <tr>\n",
       "      <th>167883</th>\n",
       "      <td>2909763</td>\n",
       "      <td>2909764</td>\n",
       "      <td>53.0</td>\n",
       "      <td>Female</td>\n",
       "      <td>Slovakia</td>\n",
       "      <td>2014-09-30</td>\n",
       "      <td>Stage I</td>\n",
       "      <td>2014-10-29</td>\n",
       "      <td>No</td>\n",
       "      <td>Never Smoked</td>\n",
       "      <td>20.9</td>\n",
       "      <td>157</td>\n",
       "      <td>1</td>\n",
       "      <td>0</td>\n",
       "      <td>0</td>\n",
       "      <td>0</td>\n",
       "      <td>Combined</td>\n",
       "      <td>2015-12-19</td>\n",
       "      <td>0</td>\n",
       "      <td>2014</td>\n",
       "    </tr>\n",
       "    <tr>\n",
       "      <th>156231</th>\n",
       "      <td>2709910</td>\n",
       "      <td>2709911</td>\n",
       "      <td>54.0</td>\n",
       "      <td>Female</td>\n",
       "      <td>Belgium</td>\n",
       "      <td>2014-07-20</td>\n",
       "      <td>Stage I</td>\n",
       "      <td>2014-07-27</td>\n",
       "      <td>Yes</td>\n",
       "      <td>Never Smoked</td>\n",
       "      <td>16.7</td>\n",
       "      <td>200</td>\n",
       "      <td>1</td>\n",
       "      <td>0</td>\n",
       "      <td>0</td>\n",
       "      <td>0</td>\n",
       "      <td>Chemotherapy</td>\n",
       "      <td>2015-09-15</td>\n",
       "      <td>1</td>\n",
       "      <td>2014</td>\n",
       "    </tr>\n",
       "  </tbody>\n",
       "</table>\n",
       "</div>"
      ],
      "text/plain": [
       "        Unnamed: 0       id   age  gender     country diagnosis_date  \\\n",
       "29476       513771   513772  72.0    Male      Greece     2014-11-30   \n",
       "159262     2762223  2762224  61.0  Female     Germany     2014-07-29   \n",
       "124869     2167932  2167933  79.0    Male  Luxembourg     2014-08-06   \n",
       "167883     2909763  2909764  53.0  Female    Slovakia     2014-09-30   \n",
       "156231     2709910  2709911  54.0  Female     Belgium     2014-07-20   \n",
       "\n",
       "       cancer_stage beginning_of_treatment_date family_history  \\\n",
       "29476       Stage I                  2014-12-06             No   \n",
       "159262    Stage III                  2014-08-08             No   \n",
       "124869    Stage III                  2014-08-19            Yes   \n",
       "167883      Stage I                  2014-10-29             No   \n",
       "156231      Stage I                  2014-07-27            Yes   \n",
       "\n",
       "        smoking_status   bmi  cholesterol_level  hypertension  asthma  \\\n",
       "29476     Never Smoked  23.2                192             1       1   \n",
       "159262  Current Smoker  18.8                194             0       1   \n",
       "124869  Current Smoker  20.0                160             1       1   \n",
       "167883    Never Smoked  20.9                157             1       0   \n",
       "156231    Never Smoked  16.7                200             1       0   \n",
       "\n",
       "        cirrhosis  other_cancer treatment_type end_treatment_date  survived  \\\n",
       "29476           0             0   Chemotherapy         2016-07-14         0   \n",
       "159262          1             0      Radiation         2015-02-04         0   \n",
       "124869          0             0      Radiation         2016-06-07         0   \n",
       "167883          0             0       Combined         2015-12-19         0   \n",
       "156231          0             0   Chemotherapy         2015-09-15         1   \n",
       "\n",
       "        year  \n",
       "29476   2014  \n",
       "159262  2014  \n",
       "124869  2014  \n",
       "167883  2014  \n",
       "156231  2014  "
      ]
     },
     "execution_count": 13,
     "metadata": {},
     "output_type": "execute_result"
    }
   ],
   "source": [
    "data.sample(5)"
   ]
  },
  {
   "cell_type": "code",
   "execution_count": 14,
   "metadata": {},
   "outputs": [
    {
     "data": {
      "text/plain": [
       "(187482, 20)"
      ]
     },
     "execution_count": 14,
     "metadata": {},
     "output_type": "execute_result"
    }
   ],
   "source": [
    "data.shape"
   ]
  },
  {
   "cell_type": "code",
   "execution_count": 24,
   "metadata": {},
   "outputs": [
    {
     "name": "stdout",
     "output_type": "stream",
     "text": [
      "<class 'pandas.core.frame.DataFrame'>\n",
      "RangeIndex: 187482 entries, 0 to 187481\n",
      "Data columns (total 19 columns):\n",
      " #   Column                       Non-Null Count   Dtype  \n",
      "---  ------                       --------------   -----  \n",
      " 0   id                           187482 non-null  int64  \n",
      " 1   age                          187482 non-null  float64\n",
      " 2   gender                       187482 non-null  object \n",
      " 3   country                      187482 non-null  object \n",
      " 4   diagnosis_date               187482 non-null  object \n",
      " 5   cancer_stage                 187482 non-null  object \n",
      " 6   beginning_of_treatment_date  187482 non-null  object \n",
      " 7   family_history               187482 non-null  object \n",
      " 8   smoking_status               187482 non-null  object \n",
      " 9   bmi                          187482 non-null  float64\n",
      " 10  cholesterol_level            187482 non-null  int64  \n",
      " 11  hypertension                 187482 non-null  int64  \n",
      " 12  asthma                       187482 non-null  int64  \n",
      " 13  cirrhosis                    187482 non-null  int64  \n",
      " 14  other_cancer                 187482 non-null  int64  \n",
      " 15  treatment_type               187482 non-null  object \n",
      " 16  end_treatment_date           187482 non-null  object \n",
      " 17  survived                     187482 non-null  int64  \n",
      " 18  year                         187482 non-null  int64  \n",
      "dtypes: float64(2), int64(8), object(9)\n",
      "memory usage: 27.2+ MB\n"
     ]
    }
   ],
   "source": [
    "data.info()"
   ]
  },
  {
   "cell_type": "code",
   "execution_count": 22,
   "metadata": {},
   "outputs": [],
   "source": [
    "data = data.drop('Unnamed: 0', axis=1)"
   ]
  },
  {
   "cell_type": "code",
   "execution_count": 44,
   "metadata": {},
   "outputs": [
    {
     "name": "stdout",
     "output_type": "stream",
     "text": [
      "Connection to MySQL database successful!\n"
     ]
    }
   ],
   "source": [
    "try:\n",
    "    with db_engine.connect() as connection:\n",
    "        print(\"Connection to MySQL database successful!\")\n",
    "except Exception as e:\n",
    "    print(f\"Error: {e}\")"
   ]
  },
  {
   "cell_type": "code",
   "execution_count": 45,
   "metadata": {},
   "outputs": [
    {
     "name": "stdout",
     "output_type": "stream",
     "text": [
      "(1,)\n"
     ]
    }
   ],
   "source": [
    "try:\n",
    "    with db_engine.connect() as connection:\n",
    "        result = connection.execute(sa.text(\"SELECT 1\"))\n",
    "        print(result.fetchone())\n",
    "except Exception as e:\n",
    "    print(f\"Error: {e}\")"
   ]
  },
  {
   "cell_type": "code",
   "execution_count": 53,
   "metadata": {},
   "outputs": [
    {
     "name": "stdout",
     "output_type": "stream",
     "text": [
      "Data inserted successfully!\n"
     ]
    }
   ],
   "source": [
    "# Write DataFrame to SQL table\n",
    "try:\n",
    "    data.to_sql('lung_cancer', con= db_engine, if_exists='append', index=False)\n",
    "    print(\"Data inserted successfully!\")\n",
    "except Exception as e:\n",
    "    print(f\"Error: {e}\")"
   ]
  },
  {
   "cell_type": "markdown",
   "metadata": {},
   "source": [
    "## Data Validation:"
   ]
  },
  {
   "cell_type": "code",
   "execution_count": 64,
   "metadata": {},
   "outputs": [
    {
     "name": "stdout",
     "output_type": "stream",
     "text": [
      "Data inserted has 187482 rows and original df had 187482 rows\n"
     ]
    }
   ],
   "source": [
    "try:\n",
    "    sql_data_count = pd.read_sql('SELECT COUNT(*) AS count FROM lung_cancer', db_engine)\n",
    "    print(f\"Data inserted has {sql_data_count['count'][0]} rows and original df had {data.shape[0]} rows\")\n",
    "except Exception as e:\n",
    "    print(f\"Error: {e}\")"
   ]
  }
 ],
 "metadata": {
  "kernelspec": {
   "display_name": ".venv",
   "language": "python",
   "name": "python3"
  },
  "language_info": {
   "codemirror_mode": {
    "name": "ipython",
    "version": 3
   },
   "file_extension": ".py",
   "mimetype": "text/x-python",
   "name": "python",
   "nbconvert_exporter": "python",
   "pygments_lexer": "ipython3",
   "version": "3.12.4"
  }
 },
 "nbformat": 4,
 "nbformat_minor": 2
}
