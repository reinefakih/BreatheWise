{
 "cells": [
  {
   "cell_type": "code",
   "execution_count": 1,
   "metadata": {},
   "outputs": [],
   "source": [
    "import pandas as pd\n",
    "from sqlalchemy import create_engine\n",
    "import sqlalchemy as sa\n",
    "import os"
   ]
  },
  {
   "cell_type": "code",
   "execution_count": 2,
   "metadata": {},
   "outputs": [],
   "source": [
    "connection_url = f\"mysql+pymysql://{os.environ['TEST_DB_USERNAME']}:{os.environ['TEST_DB_PASSWORD']}@{os.environ['TEST_DB_HOSTNAME']}/{os.environ['TEST_DB_DATABASE_NAME']}\"\n",
    "db_engine = create_engine(connection_url)"
   ]
  },
  {
   "cell_type": "code",
   "execution_count": 3,
   "metadata": {},
   "outputs": [
    {
     "name": "stdout",
     "output_type": "stream",
     "text": [
      "Connection to MySQL database successful!\n"
     ]
    }
   ],
   "source": [
    "try:\n",
    "    with db_engine.connect() as connection:\n",
    "        print(\"Connection to MySQL database successful!\")\n",
    "except Exception as e:\n",
    "    print(f\"Error: {e}\")"
   ]
  },
  {
   "cell_type": "markdown",
   "metadata": {},
   "source": [
    "'Health Implications': [\n",
    "    good: 'Air quality is considered satisfactory, and air pollution poses little or no risk.',\n",
    "    moderate: 'Air quality is acceptable; however, for some pollutants there may be a moderate health concern for a very small number of people.',\n",
    "    'Unhealthy for Sensitive Groups': 'Members of sensitive groups may experience health effects. The general public is not likely to be affected.',\n",
    "    Unhealthy: 'Everyone may begin to experience health effects; members of sensitive groups may experience more serious health effects.',\n",
    "    Very Unhealthy: 'Health alert: everyone may experience more serious health effects.',\n",
    "    Hazardous: 'Health warnings of emergency conditions. The entire population is more likely to be affected.'\n",
    "]"
   ]
  },
  {
   "cell_type": "code",
   "execution_count": 4,
   "metadata": {},
   "outputs": [
    {
     "data": {
      "text/html": [
       "<div>\n",
       "<style scoped>\n",
       "    .dataframe tbody tr th:only-of-type {\n",
       "        vertical-align: middle;\n",
       "    }\n",
       "\n",
       "    .dataframe tbody tr th {\n",
       "        vertical-align: top;\n",
       "    }\n",
       "\n",
       "    .dataframe thead th {\n",
       "        text-align: right;\n",
       "    }\n",
       "</style>\n",
       "<table border=\"1\" class=\"dataframe\">\n",
       "  <thead>\n",
       "    <tr style=\"text-align: right;\">\n",
       "      <th></th>\n",
       "      <th>AQI Range</th>\n",
       "      <th>Category</th>\n",
       "    </tr>\n",
       "  </thead>\n",
       "  <tbody>\n",
       "    <tr>\n",
       "      <th>0</th>\n",
       "      <td>0-50</td>\n",
       "      <td>Good</td>\n",
       "    </tr>\n",
       "    <tr>\n",
       "      <th>1</th>\n",
       "      <td>51-100</td>\n",
       "      <td>Moderate</td>\n",
       "    </tr>\n",
       "    <tr>\n",
       "      <th>2</th>\n",
       "      <td>101-150</td>\n",
       "      <td>Unhealthy for Sensitive Groups</td>\n",
       "    </tr>\n",
       "    <tr>\n",
       "      <th>3</th>\n",
       "      <td>151-200</td>\n",
       "      <td>Unhealthy</td>\n",
       "    </tr>\n",
       "    <tr>\n",
       "      <th>4</th>\n",
       "      <td>201-300</td>\n",
       "      <td>Very Unhealthy</td>\n",
       "    </tr>\n",
       "    <tr>\n",
       "      <th>5</th>\n",
       "      <td>301-500</td>\n",
       "      <td>Hazardous</td>\n",
       "    </tr>\n",
       "  </tbody>\n",
       "</table>\n",
       "</div>"
      ],
      "text/plain": [
       "  AQI Range                        Category\n",
       "0      0-50                            Good\n",
       "1    51-100                        Moderate\n",
       "2   101-150  Unhealthy for Sensitive Groups\n",
       "3   151-200                       Unhealthy\n",
       "4   201-300                  Very Unhealthy\n",
       "5   301-500                       Hazardous"
      ]
     },
     "execution_count": 4,
     "metadata": {},
     "output_type": "execute_result"
    }
   ],
   "source": [
    "# Data for AQI ranges, categories, and health implications\n",
    "data = {\n",
    "    'AQI Range': ['0-50', '51-100', '101-150', '151-200', '201-300', '301-500'],\n",
    "    'Category': ['Good', 'Moderate', 'Unhealthy for Sensitive Groups', 'Unhealthy', 'Very Unhealthy', 'Hazardous'],\n",
    "}\n",
    "\n",
    "# Create a DataFrame\n",
    "aqi_df = pd.DataFrame(data)\n",
    "aqi_df"
   ]
  }
 ],
 "metadata": {
  "kernelspec": {
   "display_name": ".venv",
   "language": "python",
   "name": "python3"
  },
  "language_info": {
   "codemirror_mode": {
    "name": "ipython",
    "version": 3
   },
   "file_extension": ".py",
   "mimetype": "text/x-python",
   "name": "python",
   "nbconvert_exporter": "python",
   "pygments_lexer": "ipython3",
   "version": "3.12.4"
  }
 },
 "nbformat": 4,
 "nbformat_minor": 2
}
